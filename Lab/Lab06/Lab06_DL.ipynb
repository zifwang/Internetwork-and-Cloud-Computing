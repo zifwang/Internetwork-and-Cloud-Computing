{
 "cells": [
  {
   "cell_type": "code",
   "execution_count": 1,
   "metadata": {},
   "outputs": [
    {
     "name": "stderr",
     "output_type": "stream",
     "text": [
      "Using TensorFlow backend.\n"
     ]
    }
   ],
   "source": [
    "import numpy as np\n",
    "import pandas as pd\n",
    "from sklearn.metrics import f1_score\n",
    "import tensorflow as tf\n",
    "import keras\n",
    "from keras.models import Sequential\n",
    "from keras.layers import Dense, Dropout, Activation"
   ]
  },
  {
   "cell_type": "code",
   "execution_count": 2,
   "metadata": {},
   "outputs": [],
   "source": [
    "# Read data by using pandas lib\n",
    "df = pd.read_csv('data_banknote_authentication.txt', sep=\",\", header=None)"
   ]
  },
  {
   "cell_type": "code",
   "execution_count": 3,
   "metadata": {},
   "outputs": [],
   "source": [
    "def data_generator(df):\n",
    "    \"\"\"\n",
    "        Function to generate training data and testing data\n",
    "        Argument: df dataframe (type pd)\n",
    "        Returns: \n",
    "                x_train_shuffled\n",
    "                y_train_shuffled\n",
    "                x_test_shuffled\n",
    "                y_test_shuffled\n",
    "    \"\"\"\n",
    "    pos_data_type_1 = 0\n",
    "    for i in range (0,len(df[4])):\n",
    "        if df[4][i] == 1:\n",
    "            pos_data_type_1 = i\n",
    "            break\n",
    "    \n",
    "    # Generate Data\n",
    "    \n",
    "    length = len(df)\n",
    "    num_elements = len(df.keys())\n",
    "    \n",
    "    x_train = np.zeros((length-400,num_elements-1))\n",
    "    y_train = np.zeros((length-400,1))\n",
    "    x_test = np.zeros((400,num_elements-1))\n",
    "    y_test = np.zeros((400,1))\n",
    "    \n",
    "    for i in range (0,num_elements-1):\n",
    "        x_test[0:200,i] = df[i][0:200]\n",
    "        x_test[200:,i] = df[i][pos_data_type_1:pos_data_type_1+200]\n",
    "        x_train[0:pos_data_type_1-200,i] = df[i][200:pos_data_type_1]\n",
    "        x_train[pos_data_type_1-200:,i] = df[i][pos_data_type_1+200:]\n",
    "    \n",
    "    y_test[0:200,0] = df[4][0:200]\n",
    "    y_test[200:,0] = df[4][pos_data_type_1:pos_data_type_1+200]\n",
    "    y_train[0:pos_data_type_1-200,0] = df[4][200:pos_data_type_1]\n",
    "    y_train[pos_data_type_1-200:,0] = df[4][pos_data_type_1+200:]\n",
    "    \n",
    "    #  Shuffle\n",
    "    pi_trained = np.random.permutation(x_train.shape[0])\n",
    "    x_train_shuffled = x_train[pi_trained]\n",
    "    y_train_shuffled = y_train[pi_trained]\n",
    "    y_train_shuffled = y_train_shuffled.reshape(y_train_shuffled.shape[0],)\n",
    "    \n",
    "    pi_test = np.random.permutation(x_test.shape[0])\n",
    "    x_test_shuffled = x_test[pi_test]\n",
    "    y_test_shuffled = y_test[pi_test]\n",
    "    y_test_shuffled = y_test_shuffled.reshape(y_test_shuffled.shape[0],)\n",
    "    \n",
    "    return x_train_shuffled, y_train_shuffled, x_test_shuffled, y_test_shuffled"
   ]
  },
  {
   "cell_type": "code",
   "execution_count": 4,
   "metadata": {},
   "outputs": [
    {
     "name": "stdout",
     "output_type": "stream",
     "text": [
      "WARNING:tensorflow:From /usr/local/lib/python3.7/site-packages/tensorflow/python/framework/op_def_library.py:263: colocate_with (from tensorflow.python.framework.ops) is deprecated and will be removed in a future version.\n",
      "Instructions for updating:\n",
      "Colocations handled automatically by placer.\n",
      "WARNING:tensorflow:From /usr/local/lib/python3.7/site-packages/keras/backend/tensorflow_backend.py:3445: calling dropout (from tensorflow.python.ops.nn_ops) with keep_prob is deprecated and will be removed in a future version.\n",
      "Instructions for updating:\n",
      "Please use `rate` instead of `keep_prob`. Rate should be set to `rate = 1 - keep_prob`.\n",
      "WARNING:tensorflow:From /usr/local/lib/python3.7/site-packages/tensorflow/python/ops/math_ops.py:3066: to_int32 (from tensorflow.python.ops.math_ops) is deprecated and will be removed in a future version.\n",
      "Instructions for updating:\n",
      "Use tf.cast instead.\n",
      "Epoch 1/25\n",
      "972/972 [==============================] - 1s 724us/step - loss: 0.7211 - acc: 0.6430\n",
      "Epoch 2/25\n",
      "972/972 [==============================] - 0s 145us/step - loss: 0.4736 - acc: 0.7829\n",
      "Epoch 3/25\n",
      "972/972 [==============================] - 0s 157us/step - loss: 0.3461 - acc: 0.8652\n",
      "Epoch 4/25\n",
      "972/972 [==============================] - 0s 138us/step - loss: 0.2680 - acc: 0.9033\n",
      "Epoch 5/25\n",
      "972/972 [==============================] - 0s 149us/step - loss: 0.2248 - acc: 0.9126\n",
      "Epoch 6/25\n",
      "972/972 [==============================] - 0s 126us/step - loss: 0.1834 - acc: 0.9352\n",
      "Epoch 7/25\n",
      "972/972 [==============================] - 0s 134us/step - loss: 0.1578 - acc: 0.9424\n",
      "Epoch 8/25\n",
      "972/972 [==============================] - 0s 173us/step - loss: 0.1372 - acc: 0.9527\n",
      "Epoch 9/25\n",
      "972/972 [==============================] - 0s 155us/step - loss: 0.1099 - acc: 0.9733\n",
      "Epoch 10/25\n",
      "972/972 [==============================] - 0s 143us/step - loss: 0.1038 - acc: 0.9743\n",
      "Epoch 11/25\n",
      "972/972 [==============================] - 0s 129us/step - loss: 0.0898 - acc: 0.9702\n",
      "Epoch 12/25\n",
      "972/972 [==============================] - 0s 138us/step - loss: 0.0815 - acc: 0.9743\n",
      "Epoch 13/25\n",
      "972/972 [==============================] - 0s 141us/step - loss: 0.0704 - acc: 0.9866\n",
      "Epoch 14/25\n",
      "972/972 [==============================] - 0s 132us/step - loss: 0.0673 - acc: 0.9877\n",
      "Epoch 15/25\n",
      "972/972 [==============================] - 0s 148us/step - loss: 0.0571 - acc: 0.9887\n",
      "Epoch 16/25\n",
      "972/972 [==============================] - 0s 120us/step - loss: 0.0588 - acc: 0.9805\n",
      "Epoch 17/25\n",
      "972/972 [==============================] - 0s 141us/step - loss: 0.0519 - acc: 0.9897\n",
      "Epoch 18/25\n",
      "972/972 [==============================] - 0s 158us/step - loss: 0.0448 - acc: 0.9918\n",
      "Epoch 19/25\n",
      "972/972 [==============================] - 0s 173us/step - loss: 0.0463 - acc: 0.9866\n",
      "Epoch 20/25\n",
      "972/972 [==============================] - 0s 136us/step - loss: 0.0448 - acc: 0.9897\n",
      "Epoch 21/25\n",
      "972/972 [==============================] - 0s 137us/step - loss: 0.0417 - acc: 0.9907\n",
      "Epoch 22/25\n",
      "972/972 [==============================] - 0s 150us/step - loss: 0.0511 - acc: 0.9887\n",
      "Epoch 23/25\n",
      "972/972 [==============================] - 0s 141us/step - loss: 0.0369 - acc: 0.9949\n",
      "Epoch 24/25\n",
      "972/972 [==============================] - 0s 337us/step - loss: 0.0370 - acc: 0.9907\n",
      "Epoch 25/25\n",
      "972/972 [==============================] - 0s 227us/step - loss: 0.0370 - acc: 0.9877\n"
     ]
    }
   ],
   "source": [
    "x_train, y_train, x_test, y_test = data_generator(df)\n",
    "# Create DL model \n",
    "model = Sequential()\n",
    "model.add(Dense(units=35, activation='relu', input_dim=x_train.shape[1]))\n",
    "model.add(Dropout(0.5))\n",
    "model.add(Dense(units=1, activation='sigmoid'))\n",
    "model.compile(optimizer='Adam',\n",
    "              loss='binary_crossentropy',\n",
    "              metrics=['accuracy'])\n",
    "\n",
    "hist = model.fit(x_train, y_train, epochs=25, batch_size=16, verbose = 1)"
   ]
  },
  {
   "cell_type": "code",
   "execution_count": 35,
   "metadata": {},
   "outputs": [
    {
     "name": "stdout",
     "output_type": "stream",
     "text": [
      "400/400 [==============================] - 0s 75us/step\n",
      "Deep Learning Model:\n",
      "Training accuracy is: 0.995\n",
      "Test accuracy is: 1.0\n",
      "Test f-score is: 1.0\n"
     ]
    }
   ],
   "source": [
    "test_score = model.evaluate(x_test, y_test)\n",
    "\n",
    "print(\"Deep Learning Model:\")\n",
    "print(\"Training accuracy is: {:.3f}\".format(hist.history['acc'][24]))\n",
    "print(\"Test accuracy is: {}\".format(test_score[1]))\n",
    "print(\"Test f-score is: {}\".format(test_score[1]))"
   ]
  }
 ],
 "metadata": {
  "kernelspec": {
   "display_name": "Python 3",
   "language": "python",
   "name": "python3"
  },
  "language_info": {
   "codemirror_mode": {
    "name": "ipython",
    "version": 3
   },
   "file_extension": ".py",
   "mimetype": "text/x-python",
   "name": "python",
   "nbconvert_exporter": "python",
   "pygments_lexer": "ipython3",
   "version": "3.7.1"
  }
 },
 "nbformat": 4,
 "nbformat_minor": 2
}
